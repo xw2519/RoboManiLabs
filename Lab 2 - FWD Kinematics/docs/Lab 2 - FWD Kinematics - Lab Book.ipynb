{
 "cells": [
  {
   "cell_type": "markdown",
   "metadata": {},
   "source": [
    "# Lab 2 - FWD Kinematics\n",
    "\n",
    "## Task 1 – Control Two Dynamixels Simultaneously "
   ]
  },
  {
   "cell_type": "markdown",
   "metadata": {},
   "source": [
    "<ins> \n",
    "\n",
    "### Read Encoder Position \n",
    "\n",
    "</ins>\n",
    "\n",
    "**Analysis**:\n",
    "1. *Reading the encoder position is something that cannot be done with regular servos. Why is this? Why is it important to be able to do this?*\n",
    "\n",
    "    An encoder is a generic term for something that encode i.e. measures something else. The encoder position is a sensor which turns a servo position into an electronic signal. In the case of high-end servo motors, it usually refers to optical encoders (disc-type). Toy servos use a simple potentiometer, and high-quality/industrial servo motors use hall effect sensors (amongst other things).\n",
    "\n",
    "    It is important to be able to provide a measurement to the controller i.e. computer so that it can correct for any undesirable behaviour \n",
    "\n",
    "<par>  \n",
    "\n",
    "2. *Look at the Control Table Address part of the code (lines 28-30). Note how each command name corresponds to a number. These numbers are variables of the actuator that are stored in local memory (within the actuator). The complete control table can be found on the online documentation for the XM430-W350 actuator.*\n",
    "\n",
    "```\n",
    "    ADDR_PRO_TORQUE_ENABLE       = 64;          \n",
    "    ADDR_PRO_GOAL_POSITION       = 116; \n",
    "    ADDR_PRO_PRESENT_POSITION    = 132; \n",
    "    ADDR_PRO_OPERATING_MODE      = 11;\n",
    "```"
   ]
  }
 ],
 "metadata": {
  "interpreter": {
   "hash": "40a19a6bf732bd796fd6195b0157b13eb8ce912a0c09afad7b04ce7e66a14661"
  },
  "kernelspec": {
   "display_name": "Python 3.9.7 64-bit",
   "language": "python",
   "name": "python3"
  },
  "language_info": {
   "name": "python",
   "version": "3.9.7"
  },
  "orig_nbformat": 4
 },
 "nbformat": 4,
 "nbformat_minor": 2
}
