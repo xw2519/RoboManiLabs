{
 "cells": [
  {
   "cell_type": "markdown",
   "metadata": {},
   "source": [
    "# Lab 1 \n",
    "\n",
    "## Task 3 – Communicating with the Actuator via Matlab"
   ]
  },
  {
   "cell_type": "markdown",
   "metadata": {},
   "source": [
    "<ins> \n",
    "\n",
    "### Read Encoder Position \n",
    "\n",
    "</ins>\n",
    "\n",
    "**Analysis**:\n",
    "1. *Reading the encoder position is something that cannot be done with regular servos. Why is this? Why is it important to be able to do this?*\n",
    "\n",
    "    An encoder is a generic term for something that encode i.e. measures something else. The encoder position is a sensor which turns a servo position into an electronic signal. In the case of high-end servo motors, it usually refers to optical encoders (disc-type). Toy servos use a simple potentiometer, and high-quality/industrial servo motors use hall effect sensors (amongst other things).\n",
    "\n",
    "    It is important to be able to provide a measurement to the controller i.e. computer so that it can correct for any undesirable behaviour \n",
    "\n",
    "2. *Look at the Control Table Address part of the code (lines 28-30). Note how each command name corresponds to a number. These numbers are variables of the actuator that are stored in local memory (within the actuator). The complete control table can be found on the online documentation for the XM430-W350 actuator.*\n",
    "\n",
    "```\n",
    "    ADDR_PRO_TORQUE_ENABLE       = 64;          \n",
    "    ADDR_PRO_GOAL_POSITION       = 116; \n",
    "    ADDR_PRO_PRESENT_POSITION    = 132; \n",
    "    ADDR_PRO_OPERATING_MODE      = 11;\n",
    "```"
   ]
  },
  {
   "cell_type": "markdown",
   "metadata": {},
   "source": [
    "<ins> \n",
    "\n",
    "### Data Logging with Step Demand \n",
    "\n",
    "</ins>\n",
    "\n",
    "**Analysis**:\n",
    "1. Discuss the actuator response to the step demand within your group:\n",
    "    - Why is it also not a step response?\n",
    "\n",
    "\n"
   ]
  },
  {
   "cell_type": "markdown",
   "metadata": {},
   "source": [
    "## Additional links \n",
    "- Description of the different types of control modes: https://robotics.stackexchange.com/questions/10052/position-control-vs-velocity-control-vs-torque-control\n",
    "- Dynamixel example codes: https://emanual.robotis.com/docs/en/software/dynamixel/dynamixel_sdk/sample_code/matlab_read_write_protocol_2_0/#matlab-protocol-20\n",
    "- Dynamixel control table: https://emanual.robotis.com/docs/en/dxl/x/xm430-w350/#maxmin-position-limit48-52"
   ]
  }
 ],
 "metadata": {
  "language_info": {
   "name": "python"
  },
  "orig_nbformat": 4
 },
 "nbformat": 4,
 "nbformat_minor": 2
}
